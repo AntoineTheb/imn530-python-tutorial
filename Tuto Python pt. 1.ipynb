{
 "cells": [
  {
   "cell_type": "markdown",
   "metadata": {},
   "source": [
    "# Tutoriel Python\n",
    "\n",
    "Python est un langage très simple à apprendre et utiliser. Rapidement, voici quelques principes:\n",
    "\n",
    "- Python est un langage interprété\n",
    "- Python est fortement et dynamiquement typé\n",
    "- Python préfère les itérateurs aux boucles \"for\"\n",
    "- Python préfère le code \"simple et élégant\" à \"complexe et optimisé\" \n",
    "\n",
    "\n",
    "Si vous cherchez la définition d'une fonction en Python, la doc est très très bonne ! Par exemple, celle pour les fonctions \"built-in\":\n",
    "https://docs.python.org/3.7/library/functions.html\n",
    "\n",
    "Comme certain disent: RTFM (Read The _Fantastic_ Manual)"
   ]
  },
  {
   "cell_type": "code",
   "execution_count": 1,
   "metadata": {
    "scrolled": true
   },
   "outputs": [
    {
     "name": "stdout",
     "output_type": "stream",
     "text": [
      "The Zen of Python, by Tim Peters\n",
      "\n",
      "Beautiful is better than ugly.\n",
      "Explicit is better than implicit.\n",
      "Simple is better than complex.\n",
      "Complex is better than complicated.\n",
      "Flat is better than nested.\n",
      "Sparse is better than dense.\n",
      "Readability counts.\n",
      "Special cases aren't special enough to break the rules.\n",
      "Although practicality beats purity.\n",
      "Errors should never pass silently.\n",
      "Unless explicitly silenced.\n",
      "In the face of ambiguity, refuse the temptation to guess.\n",
      "There should be one-- and preferably only one --obvious way to do it.\n",
      "Although that way may not be obvious at first unless you're Dutch.\n",
      "Now is better than never.\n",
      "Although never is often better than *right* now.\n",
      "If the implementation is hard to explain, it's a bad idea.\n",
      "If the implementation is easy to explain, it may be a good idea.\n",
      "Namespaces are one honking great idea -- let's do more of those!\n"
     ]
    }
   ],
   "source": [
    "# Les concepteurs de Python ont intégré un \"easter egg\" dans les imports de Python que les programmeurs\n",
    "# expérimentés pourront apprécier\n",
    "import this"
   ]
  },
  {
   "cell_type": "markdown",
   "metadata": {},
   "source": [
    "Les commentaires sont un outil très important dans le code vous permettant de vous laisser des traces ou d'expliquer le comportement d'un bout de code. "
   ]
  },
  {
   "cell_type": "code",
   "execution_count": 2,
   "metadata": {},
   "outputs": [
    {
     "name": "stdout",
     "output_type": "stream",
     "text": [
      "Ceci devrait être affiché\n"
     ]
    },
    {
     "data": {
      "text/plain": [
       "\"\\nLe code dans cette section n'est pas évalué, mais la string est retournée\\nprint('Pas vraiment un commentaire')\\n\""
      ]
     },
     "execution_count": 2,
     "metadata": {},
     "output_type": "execute_result"
    }
   ],
   "source": [
    "# Voici un commentaire uniligne\n",
    "# Le code des commentaires n'est pas évalué\n",
    "# Par exemple:\n",
    "# print('Ceci ne devrait pas être affiché')\n",
    "# Versus la ligne en dessous qui le sera:\n",
    "print('Ceci devrait être affiché')\n",
    "# Python n'a pas vraiment de commentaires multilignes. \n",
    "# Certains se servent de littéraux de string multi-lignes non-assignés à une variable en tant que commentaires\n",
    "# multi-lignes. Par contre, ceux ci sont quand même évalués et retournés par les interpréteurs comme le REPL ou\n",
    "# le présent notebook\n",
    "\n",
    "\"\"\"\n",
    "Le code dans cette section n'est pas évalué, mais la string est retournée\n",
    "print('Pas vraiment un commentaire')\n",
    "\"\"\""
   ]
  },
  {
   "cell_type": "markdown",
   "metadata": {},
   "source": [
    "## Typage:\n",
    "Tel que mentionné au début du Tutoriel, Python est fortmement, mais dynamiquement typé. Voici quelques exemples:"
   ]
  },
  {
   "cell_type": "code",
   "execution_count": 3,
   "metadata": {},
   "outputs": [
    {
     "name": "stdout",
     "output_type": "stream",
     "text": [
      "<class 'int'>\n",
      "<class 'float'>\n",
      "3.14159\n",
      "<class 'str'>\n"
     ]
    },
    {
     "ename": "TypeError",
     "evalue": "unsupported operand type(s) for +: 'float' and 'str'",
     "output_type": "error",
     "traceback": [
      "\u001b[0;31m---------------------------------------------------------------------------\u001b[0m",
      "\u001b[0;31mTypeError\u001b[0m                                 Traceback (most recent call last)",
      "\u001b[0;32m<ipython-input-3-1856d9adb3f0>\u001b[0m in \u001b[0;36m<module>\u001b[0;34m\u001b[0m\n\u001b[1;32m      9\u001b[0m \u001b[0mprint\u001b[0m\u001b[0;34m(\u001b[0m\u001b[0mtype\u001b[0m\u001b[0;34m(\u001b[0m\u001b[0mb\u001b[0m\u001b[0;34m)\u001b[0m\u001b[0;34m)\u001b[0m\u001b[0;34m\u001b[0m\u001b[0;34m\u001b[0m\u001b[0m\n\u001b[1;32m     10\u001b[0m \u001b[0;34m\u001b[0m\u001b[0m\n\u001b[0;32m---> 11\u001b[0;31m \u001b[0mc\u001b[0m \u001b[0;34m=\u001b[0m \u001b[0ma\u001b[0m \u001b[0;34m+\u001b[0m \u001b[0mb\u001b[0m\u001b[0;34m\u001b[0m\u001b[0;34m\u001b[0m\u001b[0m\n\u001b[0m\u001b[1;32m     12\u001b[0m \u001b[0mprint\u001b[0m\u001b[0;34m(\u001b[0m\u001b[0mc\u001b[0m\u001b[0;34m)\u001b[0m \u001b[0;31m# Ne devrait pas se rendre ici\u001b[0m\u001b[0;34m\u001b[0m\u001b[0;34m\u001b[0m\u001b[0m\n",
      "\u001b[0;31mTypeError\u001b[0m: unsupported operand type(s) for +: 'float' and 'str'"
     ]
    }
   ],
   "source": [
    "a = 1 # Définition d'un entier 'int'\n",
    "print(type(a)) # La fonction 'type' permet de retourner le type d'une variable\n",
    "\n",
    "a = 3.14159 # Redéfinition de 'a' en tant que réel 'float'\n",
    "print(type(a))\n",
    "print(a)\n",
    "\n",
    "b = 'allo' # Définition d'une chaîne de caractères 'str'\n",
    "print(type(b))\n",
    "\n",
    "c = a + b\n",
    "print(c) # Ne devrait pas se rendre ici"
   ]
  },
  {
   "cell_type": "markdown",
   "metadata": {},
   "source": [
    "Comme on peut voir, le langage est dynamiquement typé: `a` est défini en tant que `int`, puis redéfini en tant que `float` sans problèmes. Par contre, l'interpréteur ne fera pas des pieds et des mains pour faire fitter des types ensemble (par opposition à Javascript ou une des deux variables verait son type changé pour permettre l'opération). "
   ]
  },
  {
   "cell_type": "markdown",
   "metadata": {},
   "source": [
    "## Boucles, listes et itérateurs\n",
    "Python met fortement l'emphase sur les itérateurs. Alors que certain langages nécéssitent de déclarer un index puis de l'incrémenter à chaque itération, jusqu'à ce qu'une certaine limite soit atteinte tel que:"
   ]
  },
  {
   "cell_type": "code",
   "execution_count": 4,
   "metadata": {},
   "outputs": [],
   "source": [
    "liste_de_fruits = ['Orange', 'Pomme', 'Banane', 'Cantaloup', 'Avocat', 'Tomate'] # Déclaration d'une liste\n",
    "\n",
    "# Boucle dans un pseudo-langage générique:\n",
    "# for(int i = 0; i < liste_de_fruits.length; ++i){\n",
    "#     print(liste_de_fruits[i])\n",
    "# }"
   ]
  },
  {
   "cell_type": "markdown",
   "metadata": {},
   "source": [
    "Python préfère une itération sur la liste, item par item tel que:"
   ]
  },
  {
   "cell_type": "code",
   "execution_count": 5,
   "metadata": {},
   "outputs": [
    {
     "name": "stdout",
     "output_type": "stream",
     "text": [
      "Orange\n",
      "Pomme\n",
      "Banane\n",
      "Cantaloup\n",
      "Avocat\n",
      "Tomate\n"
     ]
    }
   ],
   "source": [
    "for fruit in liste_de_fruits:\n",
    "    print(fruit)"
   ]
  },
  {
   "cell_type": "markdown",
   "metadata": {},
   "source": [
    "Bien sûr, il est aussi possible d'utiliser un index:"
   ]
  },
  {
   "cell_type": "code",
   "execution_count": 6,
   "metadata": {},
   "outputs": [
    {
     "name": "stdout",
     "output_type": "stream",
     "text": [
      "Orange\n",
      "Pomme\n",
      "Banane\n",
      "Cantaloup\n",
      "Avocat\n",
      "Tomate\n"
     ]
    }
   ],
   "source": [
    "for i in range(len(liste_de_fruits)):\n",
    "    print(liste_de_fruits[i])\n",
    "\n",
    "# len(liste) permet de retourner la longeur d'une liste\n",
    "# range([début], fin) permet de créer une liste contenant les chiffres allant de '[début]' (0 par défaut) à 'fin'"
   ]
  },
  {
   "cell_type": "markdown",
   "metadata": {},
   "source": [
    "En Python, 👏 les 👏 listes 👏 commencent 👏 à 👏 0 👏 ! **Attention à ceux qui arrivent de Matlab !!!!11un!onze!** "
   ]
  },
  {
   "cell_type": "markdown",
   "metadata": {},
   "source": [
    "Pour obtenir un item ET son index, la fonction `enumerate` est disponible:"
   ]
  },
  {
   "cell_type": "code",
   "execution_count": 7,
   "metadata": {},
   "outputs": [
    {
     "name": "stdout",
     "output_type": "stream",
     "text": [
      "0 Orange\n",
      "1 Pomme\n",
      "2 Banane\n",
      "3 Cantaloup\n",
      "4 Avocat\n",
      "5 Tomate\n"
     ]
    }
   ],
   "source": [
    "for i, item in enumerate(liste_de_fruits):\n",
    "    print(i, item)"
   ]
  },
  {
   "cell_type": "markdown",
   "metadata": {},
   "source": [
    "Si on voulait associer chaque fruit à sa couleur:"
   ]
  },
  {
   "cell_type": "code",
   "execution_count": 8,
   "metadata": {},
   "outputs": [
    {
     "name": "stdout",
     "output_type": "stream",
     "text": [
      "Orange Orange\n",
      "Pomme Rouge\n",
      "Banane Jaune\n",
      "Cantaloup Brun pâle/Orange\n",
      "Avocat Brun foncé/Vert\n",
      "Tomate Rouge\n"
     ]
    }
   ],
   "source": [
    "liste_de_couleurs = ['Orange', 'Rouge', 'Jaune', 'Brun pâle/Orange', 'Brun foncé/Vert', 'Rouge']\n",
    "for i, item in enumerate(liste_de_fruits):\n",
    "    print(item, liste_de_couleurs[i])\n",
    "\n",
    "# Cette méthode d'itérer sur plusieurs liste n'est pas très élégante. NE FAITES PAS ÇA"
   ]
  },
  {
   "cell_type": "markdown",
   "metadata": {},
   "source": [
    "La méthode `zip ` permet d'itérer sur plusieurs listes en même temps, retournant un \"tuple\" des items des listes:"
   ]
  },
  {
   "cell_type": "code",
   "execution_count": 9,
   "metadata": {},
   "outputs": [
    {
     "name": "stdout",
     "output_type": "stream",
     "text": [
      "<class 'tuple'>\n",
      "('Orange', 'Orange')\n",
      "Orange Orange\n",
      "<class 'tuple'>\n",
      "('Pomme', 'Rouge')\n",
      "Pomme Rouge\n",
      "<class 'tuple'>\n",
      "('Banane', 'Jaune')\n",
      "Banane Jaune\n",
      "<class 'tuple'>\n",
      "('Cantaloup', 'Brun pâle/Orange')\n",
      "Cantaloup Brun pâle/Orange\n",
      "<class 'tuple'>\n",
      "('Avocat', 'Brun foncé/Vert')\n",
      "Avocat Brun foncé/Vert\n",
      "<class 'tuple'>\n",
      "('Tomate', 'Rouge')\n",
      "Tomate Rouge\n"
     ]
    }
   ],
   "source": [
    "# Tuple \"packed\", ou \"emboîtés\" (?)\n",
    "for fruit_couleur in zip(liste_de_fruits, liste_de_couleurs):\n",
    "    print(type(fruit_couleur))\n",
    "    print(fruit_couleur)    \n",
    "    fruit, couleur = fruit_couleur\n",
    "    print(fruit, couleur)"
   ]
  },
  {
   "cell_type": "code",
   "execution_count": 10,
   "metadata": {},
   "outputs": [
    {
     "name": "stdout",
     "output_type": "stream",
     "text": [
      "Orange Orange\n",
      "Pomme Rouge\n",
      "Banane Jaune\n",
      "Cantaloup Brun pâle/Orange\n",
      "Avocat Brun foncé/Vert\n",
      "Tomate Rouge\n"
     ]
    }
   ],
   "source": [
    "# Tuple \"unpacked\", ou \"désemboîtés\" (?)\n",
    "for fruit, couleur in zip(liste_de_fruits, liste_de_couleurs):\n",
    "    print(fruit, couleur)"
   ]
  },
  {
   "cell_type": "markdown",
   "metadata": {},
   "source": [
    "Un tuple est un ensemble de plusieurs items, pas nécéssairement du même type."
   ]
  },
  {
   "cell_type": "markdown",
   "metadata": {},
   "source": [
    "Finalement, les `list comprehension` sont une façon d'itérer sur des itérateurs.. en une ligne ! C'est très \"Pythonic\" de faire les choses en une ligne. Les \"list comprehension\" sont très utiles pour les situations où vous devez ajouter des éléments à une liste, un après l'autre."
   ]
  },
  {
   "cell_type": "code",
   "execution_count": 11,
   "metadata": {},
   "outputs": [
    {
     "name": "stdout",
     "output_type": "stream",
     "text": [
      "[2, 3, 7, 31, 261, 3131, 46663, 823551, 16777225]\n",
      "[2, 3, 7, 31, 261, 3131, 46663, 823551, 16777225]\n"
     ]
    }
   ],
   "source": [
    "# list comprehension\n",
    "puissance = [pow(i, i) + j for i, j in enumerate(range(1, 10))]\n",
    "print(puissance)\n",
    "\n",
    "# Version sans list comprehension\n",
    "puissance_2 = []\n",
    "for i, j in enumerate(range(1, 10)):\n",
    "    val = pow(i, i) + j\n",
    "    puissance_2.append(val)\n",
    "print(puissance_2)"
   ]
  },
  {
   "cell_type": "markdown",
   "metadata": {},
   "source": [
    "## Autres structures de données\n",
    "Nous avons vu les tuples et les listes. Quelles autres structures de données sont disponibles pour gérer des valeurs en Python ? "
   ]
  },
  {
   "cell_type": "code",
   "execution_count": null,
   "metadata": {},
   "outputs": [],
   "source": [
    "a = ['toto', 2., 1, True]\n",
    "print('Je suis une liste', a)\n",
    "b = 'tata', 1., 2, False\n",
    "print('Je suis un tuple:', b)\n",
    "\n",
    "a[1] = 3. # Opération valide\n",
    "b[1] = 3. # Opération invalide"
   ]
  },
  {
   "cell_type": "markdown",
   "metadata": {},
   "source": [
    "Python supporte aussi les dictionnaires:"
   ]
  },
  {
   "cell_type": "code",
   "execution_count": null,
   "metadata": {},
   "outputs": [],
   "source": [
    "c = {'Clé': 'Valeur'} \n",
    "print(c['Clé'])\n",
    "\n",
    "dictionnaire_vide = {}\n",
    "print(dictionnaire_vide)\n",
    "\n",
    "# La clé peut être tout type de donnée immuable \n",
    "# comme un entier, une string, ou même un tuple !\n",
    "ou = {\n",
    "    (False, False): False, \n",
    "    (False, True): True, \n",
    "    (True,False): True, \n",
    "    (True, True): True}\n",
    "\n",
    "print(ou[(True, True)])\n",
    "ou_exclusif = ou\n",
    "ou_exclusif[(True, True)] = False\n",
    "print(ou_exclusif[(True, True)])"
   ]
  },
  {
   "cell_type": "markdown",
   "metadata": {},
   "source": [
    "Et les ` set `. Ceux-ci permettent d'avoir une collection d'objets sans répétition."
   ]
  },
  {
   "cell_type": "code",
   "execution_count": null,
   "metadata": {},
   "outputs": [],
   "source": [
    "ensemble = {'orange', 'banane', 'pomme', 'orange'}\n",
    "print(ensemble)"
   ]
  },
  {
   "cell_type": "markdown",
   "metadata": {},
   "source": [
    "Pour plus d'information:\n",
    "https://docs.python.org/3/tutorial/datastructures.html#tuples-and-sequences"
   ]
  },
  {
   "cell_type": "code",
   "execution_count": null,
   "metadata": {},
   "outputs": [],
   "source": [
    "##"
   ]
  }
 ],
 "metadata": {
  "kernelspec": {
   "display_name": "Python 3",
   "language": "python",
   "name": "python3"
  },
  "language_info": {
   "codemirror_mode": {
    "name": "ipython",
    "version": 3
   },
   "file_extension": ".py",
   "mimetype": "text/x-python",
   "name": "python",
   "nbconvert_exporter": "python",
   "pygments_lexer": "ipython3",
   "version": "3.7.10"
  }
 },
 "nbformat": 4,
 "nbformat_minor": 4
}
