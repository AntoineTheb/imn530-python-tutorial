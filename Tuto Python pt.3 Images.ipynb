{
 "cells": [
  {
   "cell_type": "markdown",
   "metadata": {},
   "source": [
    "# Tutoriel Python\n",
    "## Partie 3: Chargement et manipulations d'images\n",
    "\n",
    "Nous avons vu quelques opérations possibles sur des matrices avec Numpy. Par contre, dans le cours, vous aurez à manipuler des images, par des matrices. Heureusement pour nous, des images ne sont que des matrices (2D ou 3D) !"
   ]
  },
  {
   "cell_type": "code",
   "execution_count": null,
   "metadata": {},
   "outputs": [],
   "source": [
    "import numpy as np\n",
    "import matplotlib.pyplot as plt\n",
    "import imageio\n",
    "import nibabel as nib"
   ]
  },
  {
   "cell_type": "code",
   "execution_count": null,
   "metadata": {},
   "outputs": [],
   "source": [
    "# On peut charger des images \"standards\" avec imageio\n",
    "image = imageio.imread('img.jpg')\n",
    "print(image.shape)\n",
    "plt.imshow(image, cmap='gray')"
   ]
  },
  {
   "cell_type": "code",
   "execution_count": null,
   "metadata": {},
   "outputs": [],
   "source": [
    "# On peut y appliquer les opérations vues plus tôt\n",
    "print(np.mean(image))\n",
    "image_bruitée = image + (np.random.random(image.shape) * 256)\n",
    "plt.imshow(image_bruitée, cmap='gray')"
   ]
  },
  {
   "cell_type": "code",
   "execution_count": null,
   "metadata": {},
   "outputs": [],
   "source": [
    "# On peut masquer une partie de l'image\n",
    "image_masquée = np.copy(image)\n",
    "image_masquée[50:100, 100:150] = 0.\n",
    "plt.imshow(image_masquée, cmap='gray')"
   ]
  },
  {
   "cell_type": "code",
   "execution_count": null,
   "metadata": {},
   "outputs": [],
   "source": [
    "# Ou savoir la valeur moyenne des pixels dans ce même masque\n",
    "print(np.mean(image[50:100, 100:150]))"
   ]
  },
  {
   "cell_type": "markdown",
   "metadata": {},
   "source": [
    "Tout est bien pour des images 2D. Par contre, les images anatomiques ont tendance à être en 3D ! Les charger selon les libraires \"conventionelles\" ne fonctionne pas:"
   ]
  },
  {
   "cell_type": "code",
   "execution_count": null,
   "metadata": {},
   "outputs": [],
   "source": [
    "# Ne fonctionne pas\n",
    "t1w = imageio.imread('T1w.nii.gz')"
   ]
  },
  {
   "cell_type": "code",
   "execution_count": null,
   "metadata": {},
   "outputs": [],
   "source": [
    "# Il faut plutôt utiliser la librairie \"Nibabel\"\n",
    "t1w = nib.load('T1w.nii.gz')\n",
    "# Les images ont une transformation affine:\n",
    "affine = t1w.affine\n",
    "print(affine)\n",
    "# Et leurs données\n",
    "data = t1w.get_fdata()\n",
    "print(data.shape)"
   ]
  },
  {
   "cell_type": "code",
   "execution_count": null,
   "metadata": {},
   "outputs": [],
   "source": [
    "# Afficher les images via matplotlib ne fonctionne pas non plus !\n",
    "plt.imshow(data, cmap='gray')"
   ]
  },
  {
   "cell_type": "code",
   "execution_count": null,
   "metadata": {},
   "outputs": [],
   "source": [
    "# Les images sont divisées en \"tranches\", plusieurs images unes par dessus les autres\n",
    "mid = data.shape[2]//2 # // permet de faire une division d'entiers\n",
    "plt.imshow(data[..., mid], cmap='gray')\n",
    " # \"...\" est utile pour ne pas avoir à spécifer les dimensions intouchées"
   ]
  },
  {
   "cell_type": "code",
   "execution_count": null,
   "metadata": {},
   "outputs": [],
   "source": [
    "# Que faire si on veut une tranche coronale ?\n",
    "mid = data.shape[1]//2\n",
    "plt.imshow(data[:, mid, :], cmap='gray')"
   ]
  },
  {
   "cell_type": "code",
   "execution_count": null,
   "metadata": {},
   "outputs": [],
   "source": [
    "# Ou une tranche sagitale ?\n",
    "mid = data.shape[0]//2\n",
    "plt.imshow(data[mid, ...], cmap='gray')"
   ]
  },
  {
   "cell_type": "code",
   "execution_count": null,
   "metadata": {},
   "outputs": [],
   "source": []
  }
 ],
 "metadata": {
  "kernelspec": {
   "display_name": "Python 3",
   "language": "python",
   "name": "python3"
  },
  "language_info": {
   "codemirror_mode": {
    "name": "ipython",
    "version": 3
   },
   "file_extension": ".py",
   "mimetype": "text/x-python",
   "name": "python",
   "nbconvert_exporter": "python",
   "pygments_lexer": "ipython3",
   "version": "3.8.2"
  }
 },
 "nbformat": 4,
 "nbformat_minor": 4
}
