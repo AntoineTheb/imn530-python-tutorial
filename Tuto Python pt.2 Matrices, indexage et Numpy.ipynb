{
 "cells": [
  {
   "cell_type": "markdown",
   "metadata": {},
   "source": [
    "# Tutoriel Python\n",
    "## Partie 2: Matrices, indexage et Numpy\n",
    "\n",
    "Python possède la librairie _très_ puissante `numpy`. Celle-ci contient toutes sortes de fonctions permettant de manipuler et opérer sur des matrices, possèdes des modules d'algèbre linéaire, d'optimisation, et autre ! Celle-ci vous sera très utile tout au long de ce cours.\n",
    "\n",
    "Encore une fois, la doc de `numpy` est très bien faite. Servez-vous en ! https://numpy.org/doc/1.19/reference/index.html"
   ]
  },
  {
   "cell_type": "code",
   "execution_count": null,
   "metadata": {},
   "outputs": [],
   "source": [
    "import numpy as np\n",
    "import matplotlib.pyplot as plt"
   ]
  },
  {
   "cell_type": "markdown",
   "metadata": {},
   "source": [
    "### Indexage\n",
    "Python permet de faire des choses assez compliquées avec très peu côté indexage de listes/matrices. Voyons quelques exemples:"
   ]
  },
  {
   "cell_type": "code",
   "execution_count": null,
   "metadata": {},
   "outputs": [],
   "source": [
    "# Instancions une liste ayant les chiffres de 0 à 10 inclus\n",
    "liste = [i for i in range(10+1)]\n",
    "print(liste)\n",
    "\n",
    "# Que faire si on voulais le dernier élément de la liste ?\n",
    "dernier = liste[-1]\n",
    "print(dernier)\n",
    "\n",
    "# Que faire si on voulais tous les éléments \"sauf\" le dernier ?\n",
    "tous_sauf_dernier = liste[:-1]\n",
    "print(tous_sauf_dernier)\n",
    "\n",
    "# Ou juste les 6 derniers ?\n",
    "six_derniers = liste[5:]\n",
    "print(six_derniers)\n",
    "\n",
    "# Ou juste un élément sur deux ?\n",
    "un_sur_deux = liste[::2]\n",
    "print(un_sur_deux)\n",
    "\n",
    "# Maintenant, obtenons une version renversée de la liste\n",
    "inverse = liste[::-1] \n",
    "print(inverse)\n",
    "\n",
    "# Ou les 8 derniers éléments, renversés, un sur 3\n",
    "huit_derniers_renversés_sur_trois = liste[:-9:-3]\n",
    "print(huit_derniers_renversés_sur_trois)\n",
    "\n",
    "# On peut même assigner avec les \"slices\"\n",
    "liste[:3] = [11, 12, 13]\n",
    "print(liste)\n",
    "\n",
    "# Structure générale: liste[début:fin:pas]\n",
    "# Le début et la fin sont implicites s'ils ne sont pas mentionnés\n",
    "# [0:4] est équivalent à [:4]\n",
    "# Un pas négatif inverse la sélection\n",
    "# Attention aux erreurs \"off-by-one\" !"
   ]
  },
  {
   "cell_type": "markdown",
   "metadata": {},
   "source": [
    "### Numpy, matrices et broadcasting\n",
    "Vous aurez à manipuler beaucoup de matrices durant ce cours. Après tout, les images (en noir et blanc) ne sont que des matrices 2D ! Voyons voir comment ça marche en Python: "
   ]
  },
  {
   "cell_type": "code",
   "execution_count": null,
   "metadata": {},
   "outputs": [],
   "source": [
    "# Les listes peuvent être vues comme des matrice 1D\n",
    "vecteur = [0 for _ in range(0,10)]\n",
    "print(vecteur)\n",
    "# Que faire en Python si on veux des matrices 2D ?\n",
    "# On peut faire une liste de listes...\n",
    "matrice = [[0 for cols in range(0, 10)] for row in range(10)]\n",
    "print(matrice)\n",
    "plt.imshow(matrice, cmap='gray')\n",
    "# Mais c'est pas très joli"
   ]
  },
  {
   "cell_type": "code",
   "execution_count": null,
   "metadata": {},
   "outputs": [],
   "source": [
    "# Et si on veut une matrice diagonale ?\n",
    "# On peut faire une liste de listes...\n",
    "matrice = [[1. if col == row else 0. for col in range(0, 10)] for row in range(10)]\n",
    "plt.imshow(matrice, cmap='gray')\n",
    "# Mais c'est pas très joli"
   ]
  },
  {
   "cell_type": "code",
   "execution_count": null,
   "metadata": {},
   "outputs": [],
   "source": [
    "# Et si on veut \"allumer\" le centre de la matrice ?\n",
    "for row in matrice[4:6]:\n",
    "    row[4:6] = [1., 1.]\n",
    "plt.imshow(matrice, cmap='gray')"
   ]
  },
  {
   "cell_type": "markdown",
   "metadata": {},
   "source": [
    "Manipuler des listes 2D en Python \"pur\", c'est lourd. Par contre, Numpy permet d'instancer et de manipuler des matrices très facilement !\n",
    "\n",
    "Pour ceux qui conaissent bien Matlab: https://numpy.org/doc/stable/user/numpy-for-matlab-users.html"
   ]
  },
  {
   "cell_type": "code",
   "execution_count": null,
   "metadata": {},
   "outputs": [],
   "source": [
    "# Numpy à la rescousse !\n",
    "diag = np.eye(10)\n",
    "plt.imshow(diag, cmap='gray')"
   ]
  },
  {
   "cell_type": "code",
   "execution_count": null,
   "metadata": {},
   "outputs": [],
   "source": [
    "diag[4:6,4:6] = 1.\n",
    "plt.imshow(diag, cmap='gray')"
   ]
  },
  {
   "cell_type": "code",
   "execution_count": null,
   "metadata": {},
   "outputs": [],
   "source": [
    "# On peut aussi convertir des listes provenant de Python vers des matrices Numpy\n",
    "np_matrice = np.array(matrice)\n",
    "plt.imshow(diag, cmap='gray')"
   ]
  },
  {
   "cell_type": "code",
   "execution_count": null,
   "metadata": {},
   "outputs": [],
   "source": [
    "# Numpy permet toute sorte de d'initialisations:\n",
    "matrice_uns = np.ones((10, 10))\n",
    "print(matrice_uns)\n",
    "plt.imshow(matrice_uns, cmap='gray', vmin=0, vmax=1.)"
   ]
  },
  {
   "cell_type": "code",
   "execution_count": null,
   "metadata": {},
   "outputs": [],
   "source": [
    "matrice_full = np.full((10, 10), 42.)\n",
    "print(matrice_full)"
   ]
  },
  {
   "cell_type": "code",
   "execution_count": null,
   "metadata": {},
   "outputs": [],
   "source": [
    "matrice_rand = np.random.random((10, 10))\n",
    "plt.imshow(matrice_rand, cmap='gray', vmin=0, vmax=1.)"
   ]
  },
  {
   "cell_type": "markdown",
   "metadata": {},
   "source": [
    "### Broadcasting & Opérations\n",
    "Numpy permet d'effectuer des opérations sur les matrices, entre matrices, mais aussi permet de \"broadcaster\" des vecteurs et des scalaires pour effectuer des opérations entre matrices de formes différentes \n",
    "\n",
    "Plus d'infos sur le broadcasting: http://scipy.github.io/old-wiki/pages/EricsBroadcastingDoc"
   ]
  },
  {
   "cell_type": "code",
   "execution_count": null,
   "metadata": {},
   "outputs": [],
   "source": [
    "# Numpy permet les opérations entre matrices\n",
    "# Comme la soustraction\n",
    "inversion = matrice_uns - diag\n",
    "plt.imshow(inversion, cmap='gray', vmin=0, vmax=1.)"
   ]
  },
  {
   "cell_type": "code",
   "execution_count": null,
   "metadata": {},
   "outputs": [],
   "source": [
    "# Ou la multiplication\n",
    "mult = matrice_rand * diag\n",
    "plt.imshow(mult, cmap='gray', vmin=0, vmax=1.)"
   ]
  },
  {
   "cell_type": "code",
   "execution_count": null,
   "metadata": {},
   "outputs": [],
   "source": [
    "# Mais numpy permet aussi de faire des opérateurs entre vecteurs et matrices\n",
    "gradient = np.array([0.1 * i for i in range(10)])\n",
    "print(gradient.shape)\n",
    "matrice_gradient = np.ones((10, 10)) * gradient\n",
    "plt.imshow(matrice_gradient, cmap='gray', vmin=0, vmax=1.)"
   ]
  },
  {
   "cell_type": "code",
   "execution_count": null,
   "metadata": {},
   "outputs": [],
   "source": [
    "# Si on voulait appliquer le dégradé aux rangées, on pourrait appliquer la transposée du gradient à la matrice\n",
    "# Par contre, il faut forcer le vecteur à avoir \"deux\" dimensions, puisque Numpy présume tous les vecteurs à \n",
    "# être des vecteurs rangée\n",
    "\n",
    "gradient_t = gradient[:, np.newaxis] # [:, None] équivalent\n",
    "print(gradient)\n",
    "print(gradient_t)\n",
    "\n",
    "# Vérifions la forme des vecteurs\n",
    "print(gradient.shape, gradient_t.shape)\n",
    "\n",
    "# On broadcast le vecteur transposé\n",
    "matrice_gradient = np.ones((10, 10)) * gradient_t\n",
    "plt.imshow(matrice_gradient, cmap='gray', vmin=0, vmax=1.)"
   ]
  },
  {
   "cell_type": "code",
   "execution_count": null,
   "metadata": {},
   "outputs": [],
   "source": [
    "# Numpy supporte aussi les opérations scalaires-matrices !\n",
    "matrice_reduite = matrice_rand - 0.5\n",
    "plt.imshow(matrice_reduite, cmap='gray', vmin=0, vmax=1.)"
   ]
  },
  {
   "cell_type": "code",
   "execution_count": null,
   "metadata": {},
   "outputs": [],
   "source": [
    "# Finalement, Python/Numpy supporte des indexages assez fancy\n",
    "# On copie la matrice pour ne pas jouer avec l'originelle\n",
    "autre = np.copy(matrice_rand) \n",
    "plt.imshow(autre, cmap='gray', vmin=0, vmax=1.)"
   ]
  },
  {
   "cell_type": "code",
   "execution_count": null,
   "metadata": {},
   "outputs": [],
   "source": [
    "# On se défini un masque binaire\n",
    "masque = autre < 0.7\n",
    "print(masque)\n",
    "autre[masque] = 0.\n",
    "plt.imshow(autre, cmap='gray', vmin=0, vmax=1.)"
   ]
  },
  {
   "cell_type": "code",
   "execution_count": null,
   "metadata": {},
   "outputs": [],
   "source": [
    "# On peut accéder à un array numpy via un masque binaire. Peut-on y accéder avec un autre\n",
    "# array numpy ?!\n",
    "indexes = np.array([[0,0], [9,9]])\n",
    "zeros = np.zeros_like(matrice_rand) \n",
    "print(indexes)\n",
    "zeros[indexes] = 1.\n",
    "plt.imshow(zeros, cmap='gray', vmin=0, vmax=1.)\n",
    "# Faites attention !"
   ]
  },
  {
   "cell_type": "code",
   "execution_count": null,
   "metadata": {},
   "outputs": [],
   "source": [
    "indexes = np.array([0,0]), np.array([9,9])\n",
    "zeros = np.zeros_like(matrice_rand) \n",
    "print(indexes)\n",
    "zeros[indexes] = 1.\n",
    "plt.imshow(zeros, cmap='gray', vmin=0, vmax=1.)\n",
    "# Faites attention !\n",
    " # Indexage équivalent à matrice[0,9], matrice[0,9]"
   ]
  },
  {
   "cell_type": "code",
   "execution_count": null,
   "metadata": {
    "scrolled": true
   },
   "outputs": [],
   "source": [
    "indexes = np.array([0,9]), np.array([0,9])\n",
    "zeros = np.zeros_like(matrice_rand) \n",
    "print(indexes)\n",
    "zeros[indexes] = 1.\n",
    "plt.imshow(zeros, cmap='gray', vmin=0, vmax=1.)\n",
    "# Faites attention !"
   ]
  },
  {
   "cell_type": "markdown",
   "metadata": {},
   "source": [
    "L'indexage d'array numpy avec d'autre arrays numpy est dangereux ! Faites attention, ça peux créer des bogues weird !\n",
    "\n",
    "Guide Numpy sur l'indexage: https://numpy.org/doc/stable/user/basics.indexing.html"
   ]
  },
  {
   "cell_type": "markdown",
   "metadata": {},
   "source": [
    "### Produit vectoriel\n",
    "Contrairement à Matlab, comme vu précédemment, `*` effectue une multiplication par éléments. Pour faire le produit matriciel, il faut utiliser l'opération `dot`:"
   ]
  },
  {
   "cell_type": "code",
   "execution_count": null,
   "metadata": {},
   "outputs": [],
   "source": [
    "x = np.array([[1,2],[3,4]])\n",
    "y = np.array([[5,6],[7,8]])\n",
    "\n",
    "v = np.array([9,10])\n",
    "w = np.array([11, 12])\n",
    "\n",
    "# Vecteur à vecteurs\n",
    "print(np.dot(v, w))\n",
    "\n",
    "# Matrice-vecteur\n",
    "print(np.dot(x, v))\n",
    "\n",
    "# Matrice-matrice\n",
    "print(np.dot(x, y))"
   ]
  },
  {
   "cell_type": "markdown",
   "metadata": {},
   "source": [
    "### Opérations plus complexes (et intéressantes !)\n",
    "On a vu que numpy permet d'effectuer des opérations arithmétiques simples entre matrices. Qu'est-ce qu'on peut faire d'autre ?"
   ]
  },
  {
   "cell_type": "code",
   "execution_count": null,
   "metadata": {},
   "outputs": [],
   "source": [
    "somme_test = np.copy(matrice_gradient)\n",
    "plt.imshow(somme_test, cmap='gray', vmin=0, vmax=1.)"
   ]
  },
  {
   "cell_type": "code",
   "execution_count": null,
   "metadata": {},
   "outputs": [],
   "source": [
    "print(somme_test)\n",
    "print(np.sum(somme_test))\n",
    "print(np.sum(somme_test, axis=0))\n",
    "print(np.sum(somme_test, axis=1))"
   ]
  },
  {
   "cell_type": "markdown",
   "metadata": {},
   "source": [
    "Quoi ?! \n",
    "\n",
    "Le principe \"d'axes\" est un peu mélangeant au début: L'axe spécifiée n'est pas celle sur laquelle est effectuée l'opération. Il s'agit plutôt de l'axe retournée par l'opération."
   ]
  },
  {
   "cell_type": "code",
   "execution_count": null,
   "metadata": {},
   "outputs": [],
   "source": [
    "print(np.mean(somme_test))\n",
    "print(np.mean(somme_test, axis=0))\n",
    "print(np.mean(somme_test, axis=1))"
   ]
  },
  {
   "cell_type": "code",
   "execution_count": null,
   "metadata": {},
   "outputs": [],
   "source": [
    "print(np.std(somme_test))\n",
    "print(np.std(somme_test, axis=0))\n",
    "print(np.std(somme_test, axis=1))\n",
    "# Attention à la précision numérique !"
   ]
  },
  {
   "cell_type": "code",
   "execution_count": null,
   "metadata": {},
   "outputs": [],
   "source": [
    "print(np.amax(matrice_rand))\n",
    "print(np.amax(matrice_rand, axis=0))\n",
    "print(np.amax(matrice_rand, axis=1))"
   ]
  }
 ],
 "metadata": {
  "kernelspec": {
   "display_name": "Python 3",
   "language": "python",
   "name": "python3"
  },
  "language_info": {
   "codemirror_mode": {
    "name": "ipython",
    "version": 3
   },
   "file_extension": ".py",
   "mimetype": "text/x-python",
   "name": "python",
   "nbconvert_exporter": "python",
   "pygments_lexer": "ipython3",
   "version": "3.8.2"
  }
 },
 "nbformat": 4,
 "nbformat_minor": 4
}
